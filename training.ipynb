{
 "cells": [
  {
   "cell_type": "code",
   "execution_count": 18,
   "metadata": {},
   "outputs": [
    {
     "name": "stderr",
     "output_type": "stream",
     "text": [
      "ERROR: Could not find a version that satisfies the requirement pickle (from versions: none)\n",
      "ERROR: No matching distribution found for pickle\n"
     ]
    }
   ],
   "source": [
    "# pip install cmake\n",
    "# pip install dlib\n",
    "# pip install face-recognition\n",
    "# pip install opencv-python"
   ]
  },
  {
   "cell_type": "markdown",
   "metadata": {},
   "source": [
    "## Import all the necessary libraries\n"
   ]
  },
  {
   "cell_type": "code",
   "execution_count": 1,
   "metadata": {},
   "outputs": [],
   "source": [
    "import cv2\n",
    "import numpy as np\n",
    "import face_recognition\n",
    "import os\n",
    "import pickle\n",
    "from datetime import datetime\n",
    "import csv"
   ]
  },
  {
   "cell_type": "code",
   "execution_count": 2,
   "metadata": {},
   "outputs": [
    {
     "name": "stdout",
     "output_type": "stream",
     "text": [
      "class ['Ayesha', 'bijoy', 'Dorothi', 'Popeye', 'Snigdha']\n"
     ]
    }
   ],
   "source": [
    "path = 'students'\n",
    "images = []\n",
    "classNames = []\n",
    "ImgDirs = os.listdir(path)\n",
    "for imgDir in ImgDirs:\n",
    "    curImg = cv2.imread(f'{path}/{imgDir}')\n",
    "    images.append(curImg)\n",
    "    classNames.append(os.path.splitext(imgDir)[0])\n",
    "\n",
    "# print('images', images)\n",
    "print('class', classNames)"
   ]
  },
  {
   "cell_type": "markdown",
   "metadata": {},
   "source": [
    "## Save the class names"
   ]
  },
  {
   "cell_type": "code",
   "execution_count": 3,
   "metadata": {},
   "outputs": [],
   "source": [
    "def save_class_names(known_encodings, save_file):\n",
    "    with open(save_file, \"wb\") as file:\n",
    "        pickle.dump(known_encodings, file)\n",
    "save_file = \"classNames.pkl\"\n",
    "save_class_names(classNames,save_file)"
   ]
  },
  {
   "cell_type": "markdown",
   "metadata": {},
   "source": [
    "## Load the class names"
   ]
  },
  {
   "cell_type": "code",
   "execution_count": 4,
   "metadata": {},
   "outputs": [
    {
     "name": "stdout",
     "output_type": "stream",
     "text": [
      "['Ayesha', 'bijoy', 'Dorothi', 'Popeye', 'Snigdha']\n"
     ]
    }
   ],
   "source": [
    "save_file = \"classNames.pkl\"\n",
    "def load_known_encodings(load_file):\n",
    "    with open(load_file, \"rb\") as file:\n",
    "        data = pickle.load(file)\n",
    "    return data\n",
    "classNames= load_known_encodings(save_file)\n",
    "print(classNames)"
   ]
  },
  {
   "cell_type": "markdown",
   "metadata": {},
   "source": [
    "## Encode the image that are provided"
   ]
  },
  {
   "cell_type": "code",
   "execution_count": 5,
   "metadata": {},
   "outputs": [
    {
     "name": "stdout",
     "output_type": "stream",
     "text": [
      "5\n"
     ]
    }
   ],
   "source": [
    "def findEncoding(images):\n",
    "    encodeList = []\n",
    "\n",
    "    for img in images:\n",
    "        img = cv2.cvtColor(img, cv2.COLOR_BGR2RGB)\n",
    "        encode = face_recognition.face_encodings(img)[0]\n",
    "        encodeList.append(encode)\n",
    "    return encodeList\n",
    "\n",
    "encodeListKnown = findEncoding(images)\n",
    "print(len(encodeListKnown))"
   ]
  },
  {
   "cell_type": "markdown",
   "metadata": {},
   "source": [
    "## Save the encoding model"
   ]
  },
  {
   "cell_type": "code",
   "execution_count": 6,
   "metadata": {},
   "outputs": [],
   "source": [
    "def save_known_encodings(known_encodings, save_file):\n",
    "    with open(save_file, \"wb\") as file:\n",
    "        pickle.dump(known_encodings, file)\n",
    "\n",
    "save_file = \"encodeListKnown.pkl\"\n",
    "save_known_encodings(encodeListKnown, save_file)"
   ]
  },
  {
   "cell_type": "markdown",
   "metadata": {},
   "source": [
    "## Load the encoding model"
   ]
  },
  {
   "cell_type": "code",
   "execution_count": 7,
   "metadata": {},
   "outputs": [],
   "source": [
    "save_file = \"encodeListKnown.pkl\"\n",
    "def load_known_encodings(load_file):\n",
    "    with open(load_file, \"rb\") as file:\n",
    "        data = pickle.load(file)\n",
    "    return data\n",
    "encodeListKnown = load_known_encodings(save_file)"
   ]
  },
  {
   "cell_type": "markdown",
   "metadata": {},
   "source": [
    "## Attendance Function that are saved in csv file"
   ]
  },
  {
   "cell_type": "code",
   "execution_count": 8,
   "metadata": {},
   "outputs": [],
   "source": [
    "def markAttendance(name,date):\n",
    "    file_name = f'Attendance_Folder/Attendance_{date}.csv'\n",
    "    if not os.path.exists(file_name):\n",
    "        with open(file_name, 'w', newline='') as f:\n",
    "            writer = csv.writer(f)\n",
    "            writer.writerow(['Name', 'Timestamp'])\n",
    "\n",
    "    with open(file_name, 'r+') as f:\n",
    "        myDataList = f.readlines()\n",
    "        nameList = []\n",
    "\n",
    "        for line in myDataList:\n",
    "            entry = line.split(',')\n",
    "            nameList.append(entry[0])\n",
    "        if name not in nameList:\n",
    "            now = datetime.now()\n",
    "            dtString = now.strftime('%H:%M:%S')\n",
    "            f.writelines(f'\\n{name},{dtString}')\n"
   ]
  },
  {
   "cell_type": "markdown",
   "metadata": {},
   "source": [
    "## RealTime Attendance "
   ]
  },
  {
   "cell_type": "code",
   "execution_count": 9,
   "metadata": {},
   "outputs": [
    {
     "name": "stdout",
     "output_type": "stream",
     "text": [
      "POPEYE\n",
      "POPEYE\n",
      "POPEYE\n",
      "POPEYE\n",
      "POPEYE\n",
      "POPEYE\n",
      "POPEYE\n",
      "POPEYE\n",
      "POPEYE\n"
     ]
    }
   ],
   "source": [
    "cap = cv2.VideoCapture(0)\n",
    "\n",
    "while True:\n",
    "    success, img = cap.read()\n",
    "\n",
    "    imgS = cv2.resize(img,(0,0), None, 1, 1)\n",
    "    imgS = cv2.cvtColor(img, cv2.COLOR_BGR2RGB)\n",
    "\n",
    "    faceCurFrame = face_recognition.face_locations(imgS)\n",
    "    encodeCurFrame = face_recognition.face_encodings(imgS, faceCurFrame)\n",
    "\n",
    "    for encodeFace, faceLoc in zip(encodeCurFrame, faceCurFrame):\n",
    "        matches = face_recognition.compare_faces(encodeListKnown, encodeFace)\n",
    "        faceDis = face_recognition.face_distance(encodeListKnown, encodeFace)\n",
    "        # print(faceDis)\n",
    "\n",
    "        matchIndex = np.argmin(faceDis)\n",
    "            \n",
    "        if matches[matchIndex]:\n",
    "            name = classNames[matchIndex].upper()\n",
    "            print(name)\n",
    "            y1, x2, y2, x1 = faceLoc\n",
    "            y1, x2, y2, x1 = y1 , x2 , y2 , x1 \n",
    "\n",
    "            cv2.rectangle(img, (x1, y1), (x2, y2), (0, 255, 0), 2)\n",
    "            cv2.rectangle(img, (x1, y2 - 35), (x2, y2), (0, 255, 0), cv2.FILLED)\n",
    "            cv2.putText(img, name, (x1 + 6, y2 - 6), cv2.FONT_HERSHEY_COMPLEX, 1, (255, 255, 255), 2)\n",
    "            current_date = datetime.now().strftime('%Y-%m-%d')\n",
    "            markAttendance(name, current_date)\n",
    "\n",
    "    cv2.imshow('Attendance', img)\n",
    "    if cv2.waitKey(1) & 0xFF == ord('q'):\n",
    "        break\n",
    "\n",
    "cap.release()\n",
    "cv2.destroyAllWindows()"
   ]
  },
  {
   "cell_type": "markdown",
   "metadata": {},
   "source": [
    "## Building a simple app of Attendance"
   ]
  },
  {
   "cell_type": "code",
   "execution_count": 3,
   "metadata": {},
   "outputs": [
    {
     "name": "stderr",
     "output_type": "stream",
     "text": [
      "Exception in Tkinter callback\n",
      "Traceback (most recent call last):\n",
      "  File \"C:\\Users\\excal\\AppData\\Local\\Programs\\Python\\Python310\\lib\\tkinter\\__init__.py\", line 1921, in __call__\n",
      "    return self.func(*args)\n",
      "  File \"C:\\Users\\excal\\AppData\\Local\\Programs\\Python\\Python310\\lib\\tkinter\\__init__.py\", line 839, in callit\n",
      "    func(*args)\n",
      "  File \"C:\\Users\\excal\\AppData\\Local\\Temp\\ipykernel_15956\\3688076297.py\", line 37, in recognize_faces\n",
      "    imgS = cv2.resize(img, (0, 0), None, 0.25, 0.25)\n",
      "cv2.error: OpenCV(4.8.0) D:\\a\\opencv-python\\opencv-python\\opencv\\modules\\imgproc\\src\\resize.cpp:4062: error: (-215:Assertion failed) !ssize.empty() in function 'cv::resize'\n",
      "\n"
     ]
    }
   ],
   "source": [
    "import tkinter as tk\n",
    "import cv2\n",
    "import face_recognition\n",
    "import pickle\n",
    "from datetime import datetime\n",
    "import csv\n",
    "from PIL import Image, ImageTk\n",
    "import os\n",
    "import numpy as np\n",
    "\n",
    "def load_known_encodings(load_file):\n",
    "    with open(load_file, \"rb\") as file:\n",
    "        data = pickle.load(file)\n",
    "    return data\n",
    "\n",
    "def markAttendance(name, date):\n",
    "    file_name = f'Attendance_Folder/Attendance_{date}.csv'\n",
    "    if not os.path.exists(file_name):\n",
    "        with open(file_name, 'w', newline='') as f:\n",
    "            writer = csv.writer(f)\n",
    "            writer.writerow(['Name', 'Timestamp'])\n",
    "\n",
    "    with open(file_name, 'r+') as f:\n",
    "        myDataList = f.readlines()\n",
    "        nameList = []\n",
    "\n",
    "        for line in myDataList:\n",
    "            entry = line.split(',')\n",
    "            nameList.append(entry[0])\n",
    "        if name not in nameList:\n",
    "            now = datetime.now()\n",
    "            dtString = now.strftime('%H:%M:%S')\n",
    "            f.writelines(f'\\n{name},{dtString}')\n",
    "\n",
    "def recognize_faces():\n",
    "    success, img = cap.read()\n",
    "    imgS = cv2.resize(img, (0, 0), None, 0.25, 0.25)\n",
    "    imgS = cv2.cvtColor(imgS, cv2.COLOR_BGR2RGB)\n",
    "\n",
    "    faceCurFrame = face_recognition.face_locations(imgS)\n",
    "    encodeCurFrame = face_recognition.face_encodings(imgS, faceCurFrame)\n",
    "\n",
    "    for encodeFace, faceLoc in zip(encodeCurFrame, faceCurFrame):\n",
    "        matches = face_recognition.compare_faces(encodeListKnown, encodeFace)\n",
    "        faceDis = face_recognition.face_distance(encodeListKnown, encodeFace)\n",
    "\n",
    "        matchIndex = np.argmin(faceDis)\n",
    "\n",
    "        if matches[matchIndex]:\n",
    "            name = classNames[matchIndex].upper()\n",
    "            y1, x2, y2, x1 = faceLoc\n",
    "            y1, x2, y2, x1 = y1 * 4, x2 * 4, y2 * 4, x1 * 4\n",
    "\n",
    "            cv2.rectangle(img, (x1, y1), (x2, y2), (0, 255, 0), 2)\n",
    "            cv2.rectangle(img, (x1, y2 - 35), (x2, y2), (0, 255, 0), cv2.FILLED)\n",
    "            cv2.putText(img, name, (x1 + 6, y2 - 6), cv2.FONT_HERSHEY_COMPLEX, 1, (255, 255, 255), 2)\n",
    "            current_date = datetime.now().strftime('%Y-%m-%d')\n",
    "            markAttendance(name, current_date)\n",
    "\n",
    "    imgtk = cv2.cvtColor(img, cv2.COLOR_BGR2RGB)\n",
    "    imgtk = ImageTk.PhotoImage(image=Image.fromarray(imgtk))\n",
    "    label_video.imgtk = imgtk\n",
    "    label_video.configure(image=imgtk)\n",
    "    label_video.after(10, recognize_faces)\n",
    "\n",
    "def start_attendance():\n",
    "    global cap,img\n",
    "    cap = cv2.VideoCapture(0)\n",
    "    recognize_faces()\n",
    "\n",
    "def stop_attendance():\n",
    "    global cap\n",
    "    if cap is not None:\n",
    "        cap.release()\n",
    "    cv2.destroyAllWindows()\n",
    "\n",
    "classNames_file = \"classNames.pkl\"\n",
    "encodeListKnown_file = \"encodeListKnown.pkl\"\n",
    "\n",
    "classNames = load_known_encodings(classNames_file)\n",
    "encodeListKnown = load_known_encodings(encodeListKnown_file)\n",
    "\n",
    "app = tk.Tk()\n",
    "app.title(\"Face Recognition Attendance App\")\n",
    "\n",
    "label_video = tk.Label(app)\n",
    "label_video.pack()\n",
    "\n",
    "button_start = tk.Button(app, text=\"Start Attendance\", command=start_attendance)\n",
    "button_start.pack()\n",
    "\n",
    "button_stop = tk.Button(app, text=\"Stop Attendance\", command=stop_attendance)\n",
    "button_stop.pack()\n",
    "\n",
    "app.mainloop()\n"
   ]
  }
 ],
 "metadata": {
  "kernelspec": {
   "display_name": "attendance",
   "language": "python",
   "name": "python3"
  },
  "language_info": {
   "codemirror_mode": {
    "name": "ipython",
    "version": 3
   },
   "file_extension": ".py",
   "mimetype": "text/x-python",
   "name": "python",
   "nbconvert_exporter": "python",
   "pygments_lexer": "ipython3",
   "version": "3.10.11"
  },
  "orig_nbformat": 4
 },
 "nbformat": 4,
 "nbformat_minor": 2
}
